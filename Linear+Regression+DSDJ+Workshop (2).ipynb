{
 "cells": [
  {
   "cell_type": "markdown",
   "metadata": {},
   "source": [
    "# Table of Contents\n",
    "***\n",
    "\n",
    "## Introduction to Linear Regression\n",
    "- [Relationships](#relation)\n",
    "\n",
    "- [What is Linear Regression? Why?](#Ensemble)\n",
    "    \n",
    "- [How it Works](#school_attendance)\n",
    "    \n",
    "- [Key Terminologies](#school_attendance)\n",
    "    \n",
    "- [Statistical Modeling vs Predictive Modeling](#hi)\n",
    "\n",
    "\n",
    "## Odinary Least Squares and Model Parameters\n",
    "- [Model Parameters](#mp)\n",
    "\n",
    "- [Ordinary Least Squares](#ols)\n",
    "\n",
    "\n",
    "## Finding Model Parameters\n",
    "- [Normal Equation](#ne)\n",
    "- [Gradient Descent](#gd)\n",
    "\n",
    "\n",
    "## Interpreting OLS Regression Results\n",
    "- [R Squared](#r2)\n",
    "\n",
    "- [Adjusted R Squared](#r22)\n",
    "\n",
    "- [Intercept and Coefficients](#coeff)\n",
    "\n",
    "- [Null-Hypothesis and P-value](#p)\n",
    "\n",
    "\n",
    "## Assumptions & How to Check\n",
    "- [Detecting Heteroskedestacity - Residual Plot](#DV)\n",
    "\n",
    "- [Detecting Multicollinearity - VIF](#mc)\n",
    "\n",
    "- [Detecting Linearity](#hetero)\n",
    "\n",
    "- [Normal Distribution of Residuals - QQ Plot](#nr)\n",
    "\n",
    "\n",
    "## Modeling\n",
    "- [Simple Linear Regresssion](#sl)\n",
    "\n",
    "- [Multiple Linear Regression](#ml)\n",
    "\n",
    "- [Polynomial Regression](#pol)\n",
    "\n",
    "- [Regularized Linear Regression (L1 & L2)](#l1)\n",
    "\n",
    "## Evaluation Performance\n",
    "- [R Squared / Adjusted R Squared](#r22)\n",
    "\n",
    "- [MAE](#mae)\n",
    "\n",
    "- [MSE/RMSE](#rmse)\n",
    "\n",
    "- [RMSLE](#rmsle)\n"
   ]
  },
  {
   "cell_type": "markdown",
   "metadata": {},
   "source": [
    "<img src='https://ichef.bbci.co.uk/images/ic/480xn/p06h0pyt.jpg'/>\n",
    "# Relationships"
   ]
  },
  {
   "cell_type": "markdown",
   "metadata": {},
   "source": [
    "When you think about **relationships**, what do you think of? \n",
    "\n",
    "The goal of linear regression to model the relationship between X and Y. And these relationships can be seen as:\n",
    "1. Independent vs Depedent\n",
    "2. Simple vs Complex\n",
    "3. Positive vs Negative\n",
    "4. Strong vs Weak\n",
    "5. Linear vs Non-Linear"
   ]
  },
  {
   "cell_type": "markdown",
   "metadata": {},
   "source": [
    "# What is Linear Regression? "
   ]
  },
  {
   "cell_type": "markdown",
   "metadata": {},
   "source": [
    "Linear Regression is a method to model the **relationship** between a set of **independent variables $X$** (also knowns as explanatory variables, features, predictors) and a **dependent variable $Y$**.\n",
    "\n",
    "\n",
    "### The Magic Formula\n",
    "\n",
    "$$ Y = \\beta_0 + \\beta_1 X + \\epsilon$$\n",
    "\n",
    "**What does each term mean?**\n",
    "\n",
    "- Y is the response\n",
    "- X is the feature\n",
    "- $\\beta_0$ is the intercept\n",
    "- $\\beta_1$ is the coefficient for X\n",
    "- $\\epsilon$ is the error term\n",
    "\n",
    "$\\beta_0$ and $\\beta_1$ are called the **model coefficients**"
   ]
  },
  {
   "cell_type": "markdown",
   "metadata": {},
   "source": [
    "# How it works?\n",
    "\n",
    "The Linear Regression Model works by finding the **best fit line** through the data by:\n",
    "1. Passing through as many points as possible\n",
    "2. Minimizing the residuals for each point\n",
    "<img src='https://slideplayer.com/slide/5001953/16/images/7/Linear+Regression+Objective%3A+Want+to+fit+the+best+line+to+the+data+points+%28that+exhibit+linear+relation%29..jpg'>"
   ]
  },
  {
   "cell_type": "markdown",
   "metadata": {},
   "source": [
    "# Key Terms\n",
    "- **Response**: The varaible we are trying to predict\n",
    "    - Synonyms: dependent varaible, Y, target, outcome\n",
    "- **Independent Variable**: The variable used to predict the response\n",
    "    - Synonyms: independent variable, X, feature, attribute\n",
    "- **Intercept**: The intercept of the regression line (the value of Y when X=0)\n",
    "    - Synonyms: B0\n",
    "- **Coefficient**: The slope of the regression line\n",
    "    - Snonyms: slope, B1, weights, parameter estimates\n",
    "- **Residuals**: The difference between the observed values and the fitted values (Actual - Predicted)\n",
    "    - Synonyms: errors\n",
    "- **Ordinary Least Squares**: The method of fitting a regression by minimiazing the sum of squared residuals\n",
    "    - Synonyms: OLS"
   ]
  },
  {
   "cell_type": "markdown",
   "metadata": {},
   "source": [
    "# Use Cases (2)\n",
    "Linear Regression can be used for either explanation or prediction:\n",
    "\n",
    "### Statistical Modeling\n",
    "- When the goal is **to estimate the relationship** between your DV and IVs\n",
    "- When the goal is to understand the overall relationship\n",
    "- MODEL ASSUMPTION IS IMPORTANT HERE\n",
    "- When the focus is on the **parameters** of interest: $$ \\beta_0 + \\beta_1 + ...\\beta_n $$\n",
    "\n",
    "### Predictive Modeling\n",
    "- When the goal is **to create a prediction model** that allows you to estimate an outcome\n",
    "- When the focus is on the **outcome**: Y"
   ]
  },
  {
   "cell_type": "markdown",
   "metadata": {},
   "source": [
    "<img src='https://cdn-images-1.medium.com/max/1600/1*k2bLmeYIG7z7dCyxADedhQ.png'>"
   ]
  },
  {
   "cell_type": "markdown",
   "metadata": {},
   "source": [
    "### Import Libraries"
   ]
  },
  {
   "cell_type": "code",
   "execution_count": 1,
   "metadata": {
    "collapsed": true
   },
   "outputs": [],
   "source": [
    "# Import Libraries \n",
    "%matplotlib inline\n",
    "import numpy as np # imports a fast numerical programming library\n",
    "import scipy as sp #imports stats functions, amongst other things\n",
    "import matplotlib as mpl # this actually imports matplotlib\n",
    "import matplotlib.cm as cm #allows us easy access to colormaps\n",
    "import matplotlib.pyplot as plt #sets up plotting under plt\n",
    "import pandas as pd #lets us handle data as dataframes\n",
    "import seaborn as sns #sets up styles and gives us more plotting options\n",
    "from sklearn.preprocessing import PolynomialFeatures\n",
    "from sklearn.model_selection import train_test_split\n",
    "from sklearn.metrics import r2_score, mean_squared_error, mean_absolute_error"
   ]
  },
  {
   "cell_type": "markdown",
   "metadata": {},
   "source": [
    "### Boston Housing Dataset"
   ]
  },
  {
   "cell_type": "code",
   "execution_count": 2,
   "metadata": {
    "scrolled": true
   },
   "outputs": [
    {
     "data": {
      "text/html": [
       "<div>\n",
       "<style>\n",
       "    .dataframe thead tr:only-child th {\n",
       "        text-align: right;\n",
       "    }\n",
       "\n",
       "    .dataframe thead th {\n",
       "        text-align: left;\n",
       "    }\n",
       "\n",
       "    .dataframe tbody tr th {\n",
       "        vertical-align: top;\n",
       "    }\n",
       "</style>\n",
       "<table border=\"1\" class=\"dataframe\">\n",
       "  <thead>\n",
       "    <tr style=\"text-align: right;\">\n",
       "      <th></th>\n",
       "      <th>CRIM</th>\n",
       "      <th>ZN</th>\n",
       "      <th>INDUS</th>\n",
       "      <th>CHAS</th>\n",
       "      <th>NOX</th>\n",
       "      <th>RM</th>\n",
       "      <th>AGE</th>\n",
       "      <th>DIS</th>\n",
       "      <th>RAD</th>\n",
       "      <th>TAX</th>\n",
       "      <th>PTRATIO</th>\n",
       "      <th>B</th>\n",
       "      <th>LSTAT</th>\n",
       "    </tr>\n",
       "  </thead>\n",
       "  <tbody>\n",
       "    <tr>\n",
       "      <th>0</th>\n",
       "      <td>0.00632</td>\n",
       "      <td>18.0</td>\n",
       "      <td>2.31</td>\n",
       "      <td>0.0</td>\n",
       "      <td>0.538</td>\n",
       "      <td>6.575</td>\n",
       "      <td>65.2</td>\n",
       "      <td>4.0900</td>\n",
       "      <td>1.0</td>\n",
       "      <td>296.0</td>\n",
       "      <td>15.3</td>\n",
       "      <td>396.90</td>\n",
       "      <td>4.98</td>\n",
       "    </tr>\n",
       "    <tr>\n",
       "      <th>1</th>\n",
       "      <td>0.02731</td>\n",
       "      <td>0.0</td>\n",
       "      <td>7.07</td>\n",
       "      <td>0.0</td>\n",
       "      <td>0.469</td>\n",
       "      <td>6.421</td>\n",
       "      <td>78.9</td>\n",
       "      <td>4.9671</td>\n",
       "      <td>2.0</td>\n",
       "      <td>242.0</td>\n",
       "      <td>17.8</td>\n",
       "      <td>396.90</td>\n",
       "      <td>9.14</td>\n",
       "    </tr>\n",
       "    <tr>\n",
       "      <th>2</th>\n",
       "      <td>0.02729</td>\n",
       "      <td>0.0</td>\n",
       "      <td>7.07</td>\n",
       "      <td>0.0</td>\n",
       "      <td>0.469</td>\n",
       "      <td>7.185</td>\n",
       "      <td>61.1</td>\n",
       "      <td>4.9671</td>\n",
       "      <td>2.0</td>\n",
       "      <td>242.0</td>\n",
       "      <td>17.8</td>\n",
       "      <td>392.83</td>\n",
       "      <td>4.03</td>\n",
       "    </tr>\n",
       "    <tr>\n",
       "      <th>3</th>\n",
       "      <td>0.03237</td>\n",
       "      <td>0.0</td>\n",
       "      <td>2.18</td>\n",
       "      <td>0.0</td>\n",
       "      <td>0.458</td>\n",
       "      <td>6.998</td>\n",
       "      <td>45.8</td>\n",
       "      <td>6.0622</td>\n",
       "      <td>3.0</td>\n",
       "      <td>222.0</td>\n",
       "      <td>18.7</td>\n",
       "      <td>394.63</td>\n",
       "      <td>2.94</td>\n",
       "    </tr>\n",
       "    <tr>\n",
       "      <th>4</th>\n",
       "      <td>0.06905</td>\n",
       "      <td>0.0</td>\n",
       "      <td>2.18</td>\n",
       "      <td>0.0</td>\n",
       "      <td>0.458</td>\n",
       "      <td>7.147</td>\n",
       "      <td>54.2</td>\n",
       "      <td>6.0622</td>\n",
       "      <td>3.0</td>\n",
       "      <td>222.0</td>\n",
       "      <td>18.7</td>\n",
       "      <td>396.90</td>\n",
       "      <td>5.33</td>\n",
       "    </tr>\n",
       "  </tbody>\n",
       "</table>\n",
       "</div>"
      ],
      "text/plain": [
       "      CRIM    ZN  INDUS  CHAS    NOX     RM   AGE     DIS  RAD    TAX  \\\n",
       "0  0.00632  18.0   2.31   0.0  0.538  6.575  65.2  4.0900  1.0  296.0   \n",
       "1  0.02731   0.0   7.07   0.0  0.469  6.421  78.9  4.9671  2.0  242.0   \n",
       "2  0.02729   0.0   7.07   0.0  0.469  7.185  61.1  4.9671  2.0  242.0   \n",
       "3  0.03237   0.0   2.18   0.0  0.458  6.998  45.8  6.0622  3.0  222.0   \n",
       "4  0.06905   0.0   2.18   0.0  0.458  7.147  54.2  6.0622  3.0  222.0   \n",
       "\n",
       "   PTRATIO       B  LSTAT  \n",
       "0     15.3  396.90   4.98  \n",
       "1     17.8  396.90   9.14  \n",
       "2     17.8  392.83   4.03  \n",
       "3     18.7  394.63   2.94  \n",
       "4     18.7  396.90   5.33  "
      ]
     },
     "execution_count": 2,
     "metadata": {},
     "output_type": "execute_result"
    }
   ],
   "source": [
    "# read data into a DataFrame\n",
    "from sklearn.datasets import load_boston\n",
    "boston_dataset = load_boston()\n",
    "df = pd.DataFrame(boston_dataset.data, columns=boston_dataset.feature_names)\n",
    "df.head()"
   ]
  },
  {
   "cell_type": "markdown",
   "metadata": {},
   "source": [
    "#### Get the Target Variable "
   ]
  },
  {
   "cell_type": "code",
   "execution_count": 3,
   "metadata": {},
   "outputs": [],
   "source": [
    "df['MEDV'] = boston_dataset.target\n",
    "df['LOGMEDV'] = np.log(df.MEDV+1) # Get Log Transformed MEDV\n",
    "Y = df.MEDV"
   ]
  },
  {
   "cell_type": "markdown",
   "metadata": {},
   "source": [
    "### Plot Price Distribution"
   ]
  },
  {
   "cell_type": "markdown",
   "metadata": {},
   "source": [
    "<div class=\"alert alert-block alert-success\">\n",
    "<b>TO DO:</b>  \n",
    "<p>1. **Plot the distribution of MEDV** and look at its distribution</p>\n",
    "<p>2. Now try plotting the distribution of the **log transformed** MEDV. **Does it look more normally distributed?**</p>\n",
    "\n",
    "</div>\n"
   ]
  },
  {
   "cell_type": "code",
   "execution_count": 4,
   "metadata": {},
   "outputs": [
    {
     "data": {
      "image/png": "[encoded data removed]",
      "text/plain": [
       "<Figure size 1080x432 with 1 Axes>"
      ]
     },
     "metadata": {},
     "output_type": "display_data"
    }
   ],
   "source": [
    "# Plot Price Distribution\n",
    "plt.subplot(1, 2, 1)\n",
    "(df.MEDV).plot.hist(bins=20,figsize=(15, 6), edgecolor = 'white')\n",
    "plt.xlabel('price', fontsize=12)\n",
    "plt.title('Price Distribution', fontsize=12)\n",
    "\n",
    "\"\"\"\n",
    "#_________________________________________________TODO______________________________________________\n",
    "#Plot Log Price Distribution\n",
    "plt.subplot(1, 2, 2)\n",
    "(df.LOGMEDV).plot.hist( figsize=(15,6), edgecolor='white')\n",
    "plt.xlabel('log(price+1)', fontsize=12)\n",
    "plt.title('Log Price Distribution', fontsize=12)\n",
    "\"\"\"\n",
    "\n",
    "plt.show()"
   ]
  },
  {
   "cell_type": "markdown",
   "metadata": {},
   "source": [
    "## Visualize and Examine \n",
    "\n",
    "Are there any linear relationships between some of the IV's and the DV?\n",
    "\n",
    "Is it:\n",
    "- Strong? Weak?\n",
    "- Positive? Negative?\n",
    "- Linear? Non-Linear?"
   ]
  },
  {
   "cell_type": "code",
   "execution_count": 5,
   "metadata": {
    "scrolled": true
   },
   "outputs": [
    {
     "name": "stderr",
     "output_type": "stream",
     "text": [
      "'c' argument looks like a single numeric RGB or RGBA sequence, which should be avoided as value-mapping will have precedence in case its length matches with 'x' & 'y'.  Please use a 2-D array with a single row if you really want to specify the same RGB or RGBA value for all points.\n",
      "'c' argument looks like a single numeric RGB or RGBA sequence, which should be avoided as value-mapping will have precedence in case its length matches with 'x' & 'y'.  Please use a 2-D array with a single row if you really want to specify the same RGB or RGBA value for all points.\n",
      "'c' argument looks like a single numeric RGB or RGBA sequence, which should be avoided as value-mapping will have precedence in case its length matches with 'x' & 'y'.  Please use a 2-D array with a single row if you really want to specify the same RGB or RGBA value for all points.\n"
     ]
    },
    {
     "data": {
      "text/plain": [
       "<matplotlib.axes._subplots.AxesSubplot at 0x14ee1487860>"
      ]
     },
     "execution_count": 5,
     "metadata": {},
     "output_type": "execute_result"
    },
    {
     "data": {
      "image/png": "[encoded data removed]",
      "text/plain": [
       "<Figure size 1080x504 with 3 Axes>"
      ]
     },
     "metadata": {},
     "output_type": "display_data"
    }
   ],
   "source": [
    "# visualize the relationship between the features and the response using scatterplots\n",
    "fig, axs = plt.subplots(1, 3, sharey=True)\n",
    "df.plot(kind='scatter', x='LSTAT', y='LOGMEDV', ax=axs[0], figsize=(15, 7))\n",
    "df.plot(kind='scatter', x='RM', y='LOGMEDV', ax=axs[1])\n",
    "df.plot(kind='scatter', x='PTRATIO', y='LOGMEDV', ax=axs[2])"
   ]
  },
  {
   "cell_type": "markdown",
   "metadata": {},
   "source": [
    "# Finding Parameters: B0 and B1\n",
    "***\n",
    "\n",
    "The question is: how do we find values for the **intercept** and **slope**?\n",
    "\n",
    "There are two ways:\n",
    "1. There is an **analytical solution** - Known as the Normal Equation / OLS\n",
    "2. There is also a **numerical approximation** method known as Gradient Descent"
   ]
  },
  {
   "cell_type": "markdown",
   "metadata": {},
   "source": [
    "## Ordinary Least Squares (OLS) Method"
   ]
  },
  {
   "cell_type": "markdown",
   "metadata": {},
   "source": [
    "<img src='http://i64.tinypic.com/2hdr8t3.png'/>"
   ]
  },
  {
   "cell_type": "markdown",
   "metadata": {},
   "source": [
    "## 1. Linear Regression Using - OLS Method "
   ]
  },
  {
   "cell_type": "code",
   "execution_count": 6,
   "metadata": {
    "scrolled": false
   },
   "outputs": [],
   "source": [
    "# Create Salary Dataset\n",
    "yr_x = [2,3,5,13,8,16,11,1,9]\n",
    "salary_y = [15, 28,42,64, 50,90,58,8,54]\n",
    "matrix = pd.DataFrame({\"yr\":yr_x, \"salary\":salary_y})\n",
    "matrix['x-x_hat'] = matrix.yr - np.mean(matrix.yr)\n",
    "matrix['y-y_hat'] = matrix.salary - np.mean(matrix.salary)\n",
    "matrix['(x-x_hat)(y-y_hat)'] = matrix['x-x_hat']*matrix['y-y_hat']\n",
    "matrix['(x-x_hat)^2'] = matrix['x-x_hat']*matrix['x-x_hat']"
   ]
  },
  {
   "cell_type": "code",
   "execution_count": 7,
   "metadata": {},
   "outputs": [
    {
     "data": {
      "image/png": "[encoded data removed]",
      "text/plain": [
       "<Figure size 576x396 with 1 Axes>"
      ]
     },
     "metadata": {},
     "output_type": "display_data"
    }
   ],
   "source": [
    "# Plot Salary vs Years\n",
    "fig, ax = plt.subplots()\n",
    "ax.scatter(matrix.yr, matrix.salary, c=\"b\")\n",
    "plt.title(\"Salary Dataset\", fontsize=16)\n",
    "plt.xlabel(\"Years\", fontsize=14)\n",
    "plt.ylabel(\"Salary 10,000s\", fontsize=14)\n",
    "plt.show()"
   ]
  },
  {
   "cell_type": "code",
   "execution_count": 8,
   "metadata": {
    "scrolled": true
   },
   "outputs": [
    {
     "data": {
      "text/html": [
       "<div>\n",
       "<style>\n",
       "    .dataframe thead tr:only-child th {\n",
       "        text-align: right;\n",
       "    }\n",
       "\n",
       "    .dataframe thead th {\n",
       "        text-align: left;\n",
       "    }\n",
       "\n",
       "    .dataframe tbody tr th {\n",
       "        vertical-align: top;\n",
       "    }\n",
       "</style>\n",
       "<table border=\"1\" class=\"dataframe\">\n",
       "  <thead>\n",
       "    <tr style=\"text-align: right;\">\n",
       "      <th></th>\n",
       "      <th>salary</th>\n",
       "      <th>yr</th>\n",
       "      <th>x-x_hat</th>\n",
       "      <th>y-y_hat</th>\n",
       "      <th>(x-x_hat)(y-y_hat)</th>\n",
       "      <th>(x-x_hat)^2</th>\n",
       "    </tr>\n",
       "  </thead>\n",
       "  <tbody>\n",
       "    <tr>\n",
       "      <th>0</th>\n",
       "      <td>15</td>\n",
       "      <td>2</td>\n",
       "      <td>-5.555556</td>\n",
       "      <td>-30.444444</td>\n",
       "      <td>169.135802</td>\n",
       "      <td>30.864198</td>\n",
       "    </tr>\n",
       "    <tr>\n",
       "      <th>1</th>\n",
       "      <td>28</td>\n",
       "      <td>3</td>\n",
       "      <td>-4.555556</td>\n",
       "      <td>-17.444444</td>\n",
       "      <td>79.469136</td>\n",
       "      <td>20.753086</td>\n",
       "    </tr>\n",
       "    <tr>\n",
       "      <th>2</th>\n",
       "      <td>42</td>\n",
       "      <td>5</td>\n",
       "      <td>-2.555556</td>\n",
       "      <td>-3.444444</td>\n",
       "      <td>8.802469</td>\n",
       "      <td>6.530864</td>\n",
       "    </tr>\n",
       "  </tbody>\n",
       "</table>\n",
       "</div>"
      ],
      "text/plain": [
       "   salary  yr   x-x_hat    y-y_hat  (x-x_hat)(y-y_hat)  (x-x_hat)^2\n",
       "0      15   2 -5.555556 -30.444444          169.135802    30.864198\n",
       "1      28   3 -4.555556 -17.444444           79.469136    20.753086\n",
       "2      42   5 -2.555556  -3.444444            8.802469     6.530864"
      ]
     },
     "execution_count": 8,
     "metadata": {},
     "output_type": "execute_result"
    }
   ],
   "source": [
    "# Examine dataset\n",
    "matrix.head(3)"
   ]
  },
  {
   "cell_type": "markdown",
   "metadata": {},
   "source": [
    "#### Find the Slope (m)"
   ]
  },
  {
   "cell_type": "code",
   "execution_count": 9,
   "metadata": {
    "scrolled": true
   },
   "outputs": [
    {
     "name": "stdout",
     "output_type": "stream",
     "text": [
      "The Slope m is: 4.799588900308324\n"
     ]
    }
   ],
   "source": [
    "# Compute the slope m\n",
    "m = np.sum(matrix['(x-x_hat)(y-y_hat)']) / np.sum(matrix['(x-x_hat)^2'])\n",
    "print(\"The Slope m is: \" + str(m))"
   ]
  },
  {
   "cell_type": "markdown",
   "metadata": {},
   "source": [
    "#### Find the Intercept (b)"
   ]
  },
  {
   "cell_type": "code",
   "execution_count": 10,
   "metadata": {},
   "outputs": [
    {
     "name": "stdout",
     "output_type": "stream",
     "text": [
      "The Intercept b is: 9.180883864337105\n"
     ]
    }
   ],
   "source": [
    "b = np.mean(matrix.salary) - (m*np.mean(matrix.yr))\n",
    "print(\"The Intercept b is: \" + str(b))"
   ]
  },
  {
   "cell_type": "markdown",
   "metadata": {},
   "source": [
    "#### Plot the best fit line"
   ]
  },
  {
   "cell_type": "code",
   "execution_count": 11,
   "metadata": {},
   "outputs": [
    {
     "data": {
      "image/png": "[encoded data removed]",
      "text/plain": [
       "<Figure size 576x396 with 1 Axes>"
      ]
     },
     "metadata": {},
     "output_type": "display_data"
    }
   ],
   "source": [
    "import matplotlib.pyplot as plt\n",
    "import numpy as np\n",
    "\n",
    "# Some dummy data\n",
    "x = matrix.yr\n",
    "y = matrix.salary\n",
    "\n",
    "# Find the slope and intercept of the best fit line\n",
    "slope, intercept = np.polyfit(x, y, 1)\n",
    "\n",
    "# Create a list of values in the best fit line\n",
    "ols_predictions = [m * i + b for i in x]\n",
    "\n",
    "# Plot the best fit line over the actual values\n",
    "plt.scatter(x,y)\n",
    "plt.plot(x, ols_predictions, 'r')\n",
    "plt.title(\"Salary Dataset\", fontsize=16)\n",
    "plt.xlabel(\"Years\", fontsize=14)\n",
    "plt.ylabel(\"Salary 10,000s\", fontsize=14)\n",
    "plt.show()"
   ]
  },
  {
   "cell_type": "markdown",
   "metadata": {},
   "source": [
    "## Normal Equation Function\n",
    "<img src='https://cdn-images-1.medium.com/max/1600/1*BIWCTn40qA8Qkgm7yEtgKA.png'/>"
   ]
  },
  {
   "cell_type": "markdown",
   "metadata": {},
   "source": [
    "## 2. Linear Regression Using - Normal Equation Method "
   ]
  },
  {
   "cell_type": "code",
   "execution_count": 15,
   "metadata": {
    "collapsed": true
   },
   "outputs": [],
   "source": [
    "\n",
    "# Create Normal Equation Function\n",
    "def NormalEquation(theta,X,y):\n",
    "    theta=np.linalg.inv(X.T@X)@X.T@y\n",
    "    return theta"
   ]
  },
  {
   "cell_type": "code",
   "execution_count": 16,
   "metadata": {},
   "outputs": [],
   "source": [
    "X = np.array([np.ones(len(matrix.yr)), matrix.yr]).T\n",
    "Y = (matrix.salary[:, np.newaxis])"
   ]
  },
  {
   "cell_type": "code",
   "execution_count": 17,
   "metadata": {},
   "outputs": [
    {
     "data": {
      "text/plain": [
       "array([[9.18088386],\n",
       "       [4.7995889 ]])"
      ]
     },
     "execution_count": 17,
     "metadata": {},
     "output_type": "execute_result"
    }
   ],
   "source": [
    "# Compute B0 and B1\n",
    "NormalEquation(0,X,Y)"
   ]
  },
  {
   "cell_type": "markdown",
   "metadata": {},
   "source": [
    "# Gradient Descent\n",
    "***"
   ]
  },
  {
   "cell_type": "markdown",
   "metadata": {},
   "source": [
    "## 3. Linear Regression Using - Gradient Descent"
   ]
  },
  {
   "cell_type": "markdown",
   "metadata": {},
   "source": [
    "<img src='https://i.stack.imgur.com/O752N.png'>"
   ]
  },
  {
   "cell_type": "markdown",
   "metadata": {},
   "source": [
    "\n",
    "### Hypothesis Function\n",
    "***\n",
    "Hθ(x)=θTx\n",
    "- x: feature matrix\n",
    "- θ: model parameters\n",
    "\n",
    "We have our X Vector already, now let's create our θ parameters:"
   ]
  },
  {
   "cell_type": "code",
   "execution_count": null,
   "metadata": {},
   "outputs": [],
   "source": [
    "# Initial random Theta Values\n",
    "theta = np.zeros(2)\n",
    "theta"
   ]
  },
  {
   "cell_type": "code",
   "execution_count": null,
   "metadata": {
    "scrolled": false
   },
   "outputs": [],
   "source": [
    "# Create X feature matrix (First Column = Intercept values)\n",
    "X = np.ones(shape=(len(matrix.yr), 2))\n",
    "X[:, 1] = x\n",
    "X"
   ]
  },
  {
   "cell_type": "code",
   "execution_count": null,
   "metadata": {},
   "outputs": [],
   "source": [
    "predictions = X @ theta\n",
    "predictions"
   ]
  },
  {
   "attachments": {},
   "cell_type": "markdown",
   "metadata": {},
   "source": [
    "<img src='http://i67.tinypic.com/29dhbg3.png'>"
   ]
  },
  {
   "cell_type": "markdown",
   "metadata": {},
   "source": [
    "### Cost Function"
   ]
  },
  {
   "cell_type": "code",
   "execution_count": null,
   "metadata": {
    "collapsed": true
   },
   "outputs": [],
   "source": [
    "def cost(theta, X, y):\n",
    "    predictions = X @ theta\n",
    "    squared_errors = np.square(predictions - y)\n",
    "    return np.sum(squared_errors) / (2 * len(y))"
   ]
  },
  {
   "cell_type": "code",
   "execution_count": null,
   "metadata": {},
   "outputs": [],
   "source": [
    "print('The initial cost is:', cost(theta, X, Y))"
   ]
  },
  {
   "cell_type": "markdown",
   "metadata": {},
   "source": [
    "### Gradient Descent"
   ]
  },
  {
   "cell_type": "markdown",
   "metadata": {},
   "source": [
    "Perform gradient descent to learn theta"
   ]
  },
  {
   "cell_type": "code",
   "execution_count": null,
   "metadata": {},
   "outputs": [],
   "source": [
    "# Define gradient descent function\n",
    "def gradientDescent(X, y, theta, alpha, num_iters):\n",
    "    m = y.size  # number of training examples\n",
    "    for i in range(num_iters):\n",
    "        y_hat = np.dot(X, theta)\n",
    "        theta = theta - alpha * (1.0/m) * np.dot(X.T, y_hat-y)\n",
    "    return theta"
   ]
  },
  {
   "cell_type": "markdown",
   "metadata": {},
   "source": [
    "### Find Theta Parameters"
   ]
  },
  {
   "cell_type": "code",
   "execution_count": null,
   "metadata": {},
   "outputs": [],
   "source": [
    "# Found the parameters from theta\n",
    "theta = gradientDescent(X,Y,0,0.008,3000)\n",
    "theta"
   ]
  },
  {
   "cell_type": "markdown",
   "metadata": {},
   "source": [
    "### Make predictions \n",
    "We now have our Theta Parameters and X Feature:\n",
    "\n",
    "Hθ(x)=θTx\n",
    "- x: feature matrix\n",
    "- θ: model parameters"
   ]
  },
  {
   "cell_type": "code",
   "execution_count": null,
   "metadata": {},
   "outputs": [],
   "source": [
    "gd_predictions = X @ theta   \n",
    "gd_predictions"
   ]
  },
  {
   "cell_type": "code",
   "execution_count": null,
   "metadata": {},
   "outputs": [],
   "source": [
    "# Plot the regression line\n",
    "plt.scatter(x,y)\n",
    "plt.plot(x, gd_predictions, 'g')\n",
    "plt.title(\"Salary Dataset\", fontsize=16)\n",
    "plt.xlabel(\"Years\", fontsize=14)\n",
    "plt.ylabel(\"Salary 10,000s\", fontsize=14)\n",
    "plt.show()"
   ]
  },
  {
   "cell_type": "code",
   "execution_count": null,
   "metadata": {},
   "outputs": [],
   "source": [
    "# Define gradient descent function\n",
    "def gradientDescent(X, y, theta, alpha, num_iters):\n",
    "    cost_history = np.zeros(num_iters)  # create a vector to store the cost history\n",
    "    m = y.size  # number of training examples\n",
    "    for i in range(num_iters):\n",
    "        y_hat = np.dot(X, theta)\n",
    "        theta = theta - alpha * (1.0/m) * np.dot(X.T, y_hat-y)\n",
    "        cost_history[i] = cost(theta, X, y) # compute and record the cost\n",
    "    return theta, cost_history   "
   ]
  },
  {
   "cell_type": "markdown",
   "metadata": {},
   "source": [
    "### Gradient Descent with Different Learning Rates\n",
    "\n",
    "Notice how the **smaller the learning rate** takes **more iterations** to minimize the cost function"
   ]
  },
  {
   "cell_type": "code",
   "execution_count": null,
   "metadata": {
    "scrolled": true
   },
   "outputs": [],
   "source": [
    "num_iters = 3000\n",
    "learning_rates = [0.000008, 0.000005, 0.00001]\n",
    "for lr in learning_rates:\n",
    "    _, cost_history = gradientDescent(X, Y, 0, lr, num_iters)\n",
    "    plt.plot(cost_history, linewidth=2)\n",
    "plt.title(\"Gradient descent with different learning rates\", fontsize=16)\n",
    "plt.xlabel(\"number of iterations\", fontsize=14)\n",
    "plt.ylabel(\"cost\", fontsize=14)\n",
    "plt.legend(list(map(str, learning_rates)))"
   ]
  },
  {
   "cell_type": "markdown",
   "metadata": {},
   "source": [
    "### Large Learning Rate\n",
    "If you use too **large of a learning rate** then your cost function may **never converge** to a minimum"
   ]
  },
  {
   "cell_type": "code",
   "execution_count": null,
   "metadata": {},
   "outputs": [],
   "source": [
    "learning_rate = 0.025\n",
    "num_iters = 500\n",
    "_, cost_history = gradientDescent(X, Y, 0,learning_rate, num_iters)\n",
    "plt.plot(cost_history, linewidth=2)\n",
    "plt.title(\"Gradient descent with learning rate = \" + str(learning_rate), fontsize=16)\n",
    "plt.xlabel(\"number of iterations\", fontsize=14)\n",
    "plt.ylabel(\"cost\", fontsize=14)\n",
    "plt.grid()\n",
    "plt.show()"
   ]
  },
  {
   "cell_type": "markdown",
   "metadata": {},
   "source": [
    "### 4. Linear Regression Using - Sklearn"
   ]
  },
  {
   "cell_type": "code",
   "execution_count": null,
   "metadata": {},
   "outputs": [],
   "source": [
    "# Import Linear Regression Model\n",
    "from sklearn.linear_model import LinearRegression\n",
    "\n",
    "lr = LinearRegression()\n",
    "lr.fit(X, Y)"
   ]
  },
  {
   "cell_type": "code",
   "execution_count": null,
   "metadata": {},
   "outputs": [],
   "source": [
    "# Find the Intercept Parameter (B0)\n",
    "lr.intercept_"
   ]
  },
  {
   "cell_type": "code",
   "execution_count": null,
   "metadata": {},
   "outputs": [],
   "source": [
    "# Find the Coefficient Parameter (B1)\n",
    "lr.coef_"
   ]
  },
  {
   "cell_type": "markdown",
   "metadata": {},
   "source": [
    "# Interpreting OLS Regression Results\n",
    "***"
   ]
  },
  {
   "cell_type": "markdown",
   "metadata": {},
   "source": [
    "**Benefits of Statsmodel:** Allows you to get a lot more statistical parameters than SkLearn\n",
    "### Interpretation\n",
    "\n",
    "- **Intercept** = 36.4911 This is what the value of our y (dependent variable) would be if the gradient had a value of 0.\n",
    "- **Coefficient (RM)** = For every unit increase in x, y increases by 3800 dollars.\n",
    "- **R-Squared (0.741)** =  74.1% of the variation in our y variable is “explained” by the x variable in this model.\n",
    "- **p-value** The p-value is below 0.05%, denoting statistical significance of the regression at the 5% level.\n",
    "- **The Null-Hypothesis**:  \n",
    "    - H(0) says that there is no association between the DV and the IV. \n",
    "    - When the p-value is < 0.05 then we can reject the null-hypothesis and say that there is an association between the DV and the IV.\n",
    "    - When p-value is < 0.05 then there is a relationship between DV and IV\n",
    "\n",
    "### R Squared\n",
    "\n",
    "R Squared = Ratio of (Prediction Values / Observed Values)\n",
    "<img src='http://i64.tinypic.com/8x1p3a.png'>"
   ]
  },
  {
   "cell_type": "markdown",
   "metadata": {},
   "source": [
    "<div class=\"alert alert-block alert-success\">\n",
    "<b>TO DO:</b>  \n",
    "<p>1. Use a **Log Transformed** MEDV for Y and compare the results. Does R Squared improve?</p>\n",
    "<p>2. Remove the **high p-valued** features: INDUS & AGE</p>\n",
    "\n",
    "</div>\n"
   ]
  },
  {
   "cell_type": "code",
   "execution_count": null,
   "metadata": {
    "scrolled": true
   },
   "outputs": [],
   "source": [
    "import statsmodels.api as sm\n",
    "\n",
    "# Define X Values\n",
    "X = sm.add_constant(df.drop(['MEDV','LOGMEDV'],axis=1))\n",
    "\n",
    "# Define Y \n",
    "Y = df.MEDV\n",
    "\n",
    "# Apply OLS to our X and Y\n",
    "lm = sm.OLS(Y, X).fit()\n",
    "\n",
    "# Print Summary of Outputs\n",
    "lm.summary()"
   ]
  },
  {
   "cell_type": "markdown",
   "metadata": {},
   "source": [
    "<img src='https://static1.squarespace.com/static/58f7c433bf629a737d4092ee/5aa9f7dc8165f531654c9d28/5ab029df88251bfd94890806/1521494499387/web+p+logo.jpg'>"
   ]
  },
  {
   "cell_type": "markdown",
   "metadata": {},
   "source": [
    "# Assumptions & How to Check\n",
    "***"
   ]
  },
  {
   "cell_type": "markdown",
   "metadata": {},
   "source": [
    "**Source**: https://medium.com/@emredjan/emulating-r-regression-plots-in-python-43741952c034\n",
    "\n",
    "## L.I.N.E.\n",
    "\n",
    "- L - Linear Relationship between IV and DV\n",
    "- I - Independence of residuals\n",
    "- N - Normality of residuals \n",
    "- E - Equal variance of residuals\n",
    "\n",
    "## Assumptions\n",
    "\n",
    "1. Linear Relationship between IV and DV\n",
    "2. There must be no correlation among independent variables. Presence of correlation in independent variables lead to Multicollinearity. If variables are correlated, it becomes extremely difficult for the model to determine the true effect of IVs on DV.\n",
    "3. The error terms must possess constant variance. Absence of constant variance leads to heteroskedestacity.\n",
    "4. The error terms must be uncorrelated i.e. error at ∈t must not indicate the at error at ∈t+1. Presence of correlation in error terms is known as Autocorrelation. It drastically affects the regression coefficients and standard error values since they are based on the assumption of uncorrelated error terms.\n",
    "5. The dependent variable and the error terms must possess a normal distribution."
   ]
  },
  {
   "cell_type": "markdown",
   "metadata": {},
   "source": [
    "## 1. Detecting Multicollinearity - VIF"
   ]
  },
  {
   "cell_type": "markdown",
   "metadata": {},
   "source": [
    "**Note:** Multicollinearity isn't so much of a problem if you're main focus is prediction. \n",
    "\n",
    "**Why is this a problem:** \n",
    "- When two variables are correlated with each other, then they \"move together\". \n",
    "- This is hard for your linear regression model to interpret the exact change of your DV's. \n",
    "- It doesn't know which IV is **responsible** for the change in the DV. \n",
    "- βi coefficients will be less precise.\n",
    "- It's harder to accurately interpret the coefficients \n",
    "\n",
    "### Reference\n",
    "- VIF = 1 (Not correlated)\n",
    "- 1 < VIF < 5 (Moderately correlated)\n",
    "- VIF >=5 (Highly correlated)"
   ]
  },
  {
   "cell_type": "code",
   "execution_count": null,
   "metadata": {},
   "outputs": [],
   "source": [
    "from statsmodels.stats.outliers_influence import variance_inflation_factor\n",
    "\n",
    "X_vif = df.drop(['MEDV','LOGMEDV'],axis=1).assign(const=1)\n",
    "pd.Series([variance_inflation_factor(X_vif.values, i) for i in range(X_vif.shape[1])],index=X_vif.columns)"
   ]
  },
  {
   "cell_type": "markdown",
   "metadata": {},
   "source": [
    "### Get Necessary Model Parameters (Refit for Log Transformation)"
   ]
  },
  {
   "cell_type": "code",
   "execution_count": null,
   "metadata": {
    "collapsed": true
   },
   "outputs": [],
   "source": [
    "# Non-Logged MEDV\n",
    "#Y = df.MEDV\n",
    "\n",
    "# Log Transformed MEDV\n",
    "#Y = df.LOGMEDV\n",
    "\n",
    "# Apply OLS to our X and Y\n",
    "lm = sm.OLS(Y, X).fit()"
   ]
  },
  {
   "cell_type": "code",
   "execution_count": null,
   "metadata": {},
   "outputs": [],
   "source": [
    "# fitted values (need a constant term for intercept)\n",
    "model_fitted_y = lm.fittedvalues\n",
    "\n",
    "# model residuals\n",
    "model_residuals = lm.resid\n",
    "\n",
    "# normalized residuals\n",
    "model_norm_residuals = lm.get_influence().resid_studentized_internal\n",
    "\n",
    "# absolute squared normalized residuals\n",
    "model_norm_residuals_abs_sqrt = np.sqrt(np.abs(model_norm_residuals))\n",
    "\n",
    "# absolute residuals\n",
    "model_abs_resid = np.abs(model_residuals)\n",
    "\n",
    "# leverage, from statsmodels internals\n",
    "model_leverage = lm.get_influence().hat_matrix_diag\n",
    "\n",
    "# cook's distance, from statsmodels internals\n",
    "model_cooks = lm.get_influence().cooks_distance[0]"
   ]
  },
  {
   "cell_type": "markdown",
   "metadata": {},
   "source": [
    "## 2. Detecting Heteroskedestacity - Residual Plot"
   ]
  },
  {
   "cell_type": "markdown",
   "metadata": {},
   "source": [
    "Homescedasticity means the errors exhibit constant variance. **This is a key assumption of linear regression.**\n",
    "\n",
    "Heteroscedasticity, on the other hand, is what happens when errors show some sort of growth. \n",
    "It's not Homescedastic if there is a pattern like: \n",
    "- quadratic shaped\n",
    "- funnel shaped \n",
    "\n",
    "<div class=\"alert alert-block alert-success\">\n",
    "<b>TO DO:</b> \n",
    "<p>1. Try refitting the residual plot with the Log Transformed MEDV</p>\n",
    "</div>\n"
   ]
  },
  {
   "cell_type": "code",
   "execution_count": null,
   "metadata": {
    "scrolled": false
   },
   "outputs": [],
   "source": [
    "# Create residual plot of MEDV vs Residuals\n",
    "plot_lm_1 = plt.figure(1)\n",
    "plot_lm_1.set_figheight(5)\n",
    "plot_lm_1.set_figwidth(8)\n",
    "\n",
    "model_fitted_y = lm.fittedvalues\n",
    "\n",
    "plot_lm_1.axes[0] = sns.residplot(model_fitted_y, 'MEDV', data=df, \n",
    "                          scatter_kws={'alpha': 0.5})\n",
    "\n",
    "plot_lm_1.axes[0].set_title('Residuals vs Fitted')\n",
    "plot_lm_1.axes[0].set_xlabel('Fitted values')\n",
    "plot_lm_1.axes[0].set_ylabel('Residuals')"
   ]
  },
  {
   "cell_type": "markdown",
   "metadata": {},
   "source": [
    "### Log Transformed MEDV"
   ]
  },
  {
   "cell_type": "code",
   "execution_count": null,
   "metadata": {
    "collapsed": true
   },
   "outputs": [],
   "source": [
    "\"\"\"\n",
    "#_________________________________________________TODO 1.______________________________________________\n",
    "# Refit with Log Transformed MEDV and apply the graphs again:\n",
    "\n",
    "\"\"\""
   ]
  },
  {
   "cell_type": "markdown",
   "metadata": {},
   "source": [
    "## 3. Detecting Linearity, Normal Distribution of Residuals, & Zero Mean"
   ]
  },
  {
   "cell_type": "markdown",
   "metadata": {},
   "source": [
    "\n",
    "<div class=\"alert alert-block alert-success\">\n",
    "<b>TO DO:</b> \n",
    "<p>1. Refit with the **Log Transformed Y** and compare the results. Does it look better?</p>\n",
    "</div>"
   ]
  },
  {
   "cell_type": "code",
   "execution_count": null,
   "metadata": {
    "scrolled": true
   },
   "outputs": [],
   "source": [
    "import seaborn as sns; sns.set()\n",
    "\n",
    "# Check for Linearity\n",
    "f = plt.figure(figsize=(14,5))\n",
    "ax = f.add_subplot(121)\n",
    "#sns.scatterplot(y_test,y_pred_ols,ax=ax,color=['r','g'])\n",
    "# use the function regplot to make a scatterplot\n",
    "sns.regplot(x=df.MEDV, y=model_fitted_y, line_kws={\"color\":\"r\",\"alpha\":0.7,\"lw\":2})\n",
    "plt.title('Check for Linearity')\n",
    "plt.xlabel('Actual value')\n",
    "plt.ylabel('Predicted value')\n",
    "\n",
    "# Check for Residual normality & mean\n",
    "ax = f.add_subplot(122)\n",
    "sns.distplot((df.MEDV - model_fitted_y),ax=ax,color='b')\n",
    "plt.axvline((df.MEDV - model_fitted_y).mean(),color='k',linestyle='--')\n",
    "plt.title('Check for Residual normality & mean')\n",
    "plt.xlabel('Residual eror')\n",
    "plt.ylabel('$p(x)$');"
   ]
  },
  {
   "cell_type": "markdown",
   "metadata": {},
   "source": [
    "### Log Transformed MEDV"
   ]
  },
  {
   "cell_type": "code",
   "execution_count": null,
   "metadata": {},
   "outputs": [],
   "source": [
    "\"\"\"\n",
    "#_________________________________________________TODO 1.______________________________________________\n",
    "# Refit with Log Transformed MEDV and apply the graphs again:\n",
    "\n",
    "\"\"\""
   ]
  },
  {
   "cell_type": "markdown",
   "metadata": {},
   "source": [
    "## 4. Detecting Normal Distribution of Residuals - QQ Plot"
   ]
  },
  {
   "cell_type": "markdown",
   "metadata": {},
   "source": [
    "This plot shows if residuals are normally distributed. Do residuals follow a straight line well or do they deviate severely? It’s good if residuals are lined well on the straight dashed line.\n",
    "\n",
    "#### Why error terms should be normally distributed? \n",
    "For parameter estimate (i.e. estimating the βi’s) we don't need that assumption. But, if it is not a normal distribution, some of those hypotheses tests which we will be doing as part of diagnostics may not be valid. \n",
    "For example:  To check whether the Beta (the regression coefficient) is significant or not, I'll do a T-test. So, if my error is not a normal distribution, then the statistic I derive may not be a T-distribution. \n",
    "\n",
    "<div class=\"alert alert-block alert-success\">\n",
    "<b>TO DO:</b> \n",
    "<p>1. Refit the OLS with the Log Transformed MEDV and perform the QQ Plot again. Does it look better?</p>\n",
    "</div>"
   ]
  },
  {
   "cell_type": "markdown",
   "metadata": {},
   "source": [
    "<img src='http://i63.tinypic.com/2qx8hnb.png'/>"
   ]
  },
  {
   "cell_type": "code",
   "execution_count": null,
   "metadata": {
    "scrolled": true
   },
   "outputs": [],
   "source": [
    "from statsmodels.graphics.gofplots import ProbPlot\n",
    "\n",
    "QQ = ProbPlot(model_norm_residuals)\n",
    "plot_lm_2 = QQ.qqplot(line='45', alpha=0.5, color='#4C72B0', lw=1)\n",
    "\n",
    "plot_lm_2.set_figheight(5)\n",
    "plot_lm_2.set_figwidth(10)\n",
    "\n",
    "plot_lm_2.axes[0].set_title('Normal Q-Q')\n",
    "plot_lm_2.axes[0].set_xlabel('Theoretical Quantiles')\n",
    "plot_lm_2.axes[0].set_ylabel('Standardized Residuals');"
   ]
  },
  {
   "cell_type": "markdown",
   "metadata": {},
   "source": [
    "### Log Transformed MEDV"
   ]
  },
  {
   "cell_type": "code",
   "execution_count": null,
   "metadata": {},
   "outputs": [],
   "source": [
    "\"\"\"\n",
    "#_________________________________________________TODO 1.______________________________________________\n",
    "# Refit with Log Transformed MEDV and apply the QQ PLot again:\n",
    "\n",
    "\"\"\""
   ]
  },
  {
   "cell_type": "markdown",
   "metadata": {},
   "source": [
    "<img src='https://3.bp.blogspot.com/-jKKePccDp00/Wtx9jR1ZpSI/AAAAAAACrBI/0mkL7mnIQ3kLTGBjf2h9GSzw75IqbFBEwCLcBGAs/s1600/correlation-linear-regression-minitab-output-3-638-640x500.jpg'>"
   ]
  },
  {
   "cell_type": "markdown",
   "metadata": {},
   "source": [
    "# Modeling\n",
    "***"
   ]
  },
  {
   "cell_type": "markdown",
   "metadata": {},
   "source": [
    "Let's perform three types of Linear Regression and compare their performance:\n",
    "1. Simple Linear Regression\n",
    "2. Multiple Regression\n",
    "3. Polynomial Regression"
   ]
  },
  {
   "cell_type": "markdown",
   "metadata": {},
   "source": [
    "## Simple Linear Regression"
   ]
  },
  {
   "cell_type": "code",
   "execution_count": null,
   "metadata": {},
   "outputs": [],
   "source": [
    "X = df.LSTAT\n",
    "X = X.reshape((len(X),1))\n",
    "Y = df.LOGMEDV"
   ]
  },
  {
   "cell_type": "code",
   "execution_count": null,
   "metadata": {
    "collapsed": true
   },
   "outputs": [],
   "source": [
    "# Split data into train/test sets\n",
    "X_train, X_test, y_train, y_test = train_test_split(X, Y, test_size=0.20, random_state=42)"
   ]
  },
  {
   "cell_type": "code",
   "execution_count": null,
   "metadata": {},
   "outputs": [],
   "source": [
    "# Initialize LR Model\n",
    "lr = LinearRegression()\n",
    "\n",
    "# Fit the model\n",
    "lr.fit(X_train, y_train)\n",
    "\n",
    "# Make predictions\n",
    "predictions = lr.predict(X_test)"
   ]
  },
  {
   "cell_type": "code",
   "execution_count": null,
   "metadata": {},
   "outputs": [],
   "source": [
    "# Store results in variable\n",
    "r2 = format(r2_score(y_test, predictions),'.3f')\n",
    "rmse = format(np.sqrt(mean_squared_error(y_test, predictions)),'.3f')\n",
    "mae = format(mean_absolute_error(y_test, predictions),'.3f')\n",
    "\n",
    "# Print out result\n",
    "print(\"R Squared Score: \", format(r2_score(y_test, predictions),'.3f'))\n",
    "print(\"Root Mean Squared Error: \", format(np.sqrt(mean_squared_error(y_test, predictions)),'.3f'))\n",
    "print(\"Mean Absolute Error: \", format(mean_absolute_error(y_test, predictions),'.3f'))"
   ]
  },
  {
   "cell_type": "code",
   "execution_count": null,
   "metadata": {
    "scrolled": true
   },
   "outputs": [],
   "source": [
    "result = pd.DataFrame({'Model':['Simple'],'R Squared':[r2], 'RMSE':[rmse], 'MAE':[mae]})\n",
    "result"
   ]
  },
  {
   "cell_type": "markdown",
   "metadata": {},
   "source": [
    "## Multiple Regression"
   ]
  },
  {
   "cell_type": "code",
   "execution_count": null,
   "metadata": {},
   "outputs": [],
   "source": [
    "X = df.drop(['MEDV','LOGMEDV'],axis=1)\n",
    "Y = df.LOGMEDV"
   ]
  },
  {
   "cell_type": "code",
   "execution_count": null,
   "metadata": {
    "collapsed": true
   },
   "outputs": [],
   "source": [
    "# Split data into train/test sets\n",
    "X_train, X_test, y_train, y_test = train_test_split(X, Y, test_size=0.20, random_state=42)"
   ]
  },
  {
   "cell_type": "code",
   "execution_count": null,
   "metadata": {
    "collapsed": true
   },
   "outputs": [],
   "source": [
    "# Initialize LR Model\n",
    "lr = LinearRegression()\n",
    "\n",
    "# Fit the model\n",
    "lr.fit(X_train, y_train)\n",
    "\n",
    "# Make predictions\n",
    "predictions = lr.predict(X_test)"
   ]
  },
  {
   "cell_type": "code",
   "execution_count": null,
   "metadata": {},
   "outputs": [],
   "source": [
    "# Store results in variable\n",
    "r2 = format(r2_score(y_test, predictions),'.3f')\n",
    "rmse = format(np.sqrt(mean_squared_error(y_test, predictions)),'.3f')\n",
    "mae = format(mean_absolute_error(y_test, predictions),'.3f')\n",
    "\n",
    "# Print out result\n",
    "print(\"R Squared Score: \", format(r2_score(y_test, predictions),'.3f'))\n",
    "print(\"Root Mean Squared Error: \", format(np.sqrt(mean_squared_error(y_test, predictions)),'.3f'))\n",
    "print(\"Mean Absolute Error: \", format(mean_absolute_error(y_test, predictions),'.3f'))"
   ]
  },
  {
   "cell_type": "code",
   "execution_count": null,
   "metadata": {},
   "outputs": [],
   "source": [
    "result_2 = pd.DataFrame({'Model':['Multiple'],'R Squared':[r2], 'RMSE':[rmse], 'MAE':[mae]})\n",
    "result = result.append(result_2)\n",
    "result"
   ]
  },
  {
   "cell_type": "markdown",
   "metadata": {},
   "source": [
    "## Polynomial Regression"
   ]
  },
  {
   "cell_type": "markdown",
   "metadata": {},
   "source": [
    "Polynomial regression is useful because it allows you to fit a model to **nonlinear trends**.\n",
    "\n",
    "It creates **new interaction features** in your dataset by:\n",
    "- Multiplying features together\n",
    "- Squaring features\n",
    "- Cubing features\n",
    "- Etc..\n",
    "\n",
    "#### Example\n",
    "You have a matrix [a,b] and want to perform a polynomial regression of degree=2\n",
    "- new matrix: [1, a, b, a^2, ab, b^2]"
   ]
  },
  {
   "cell_type": "code",
   "execution_count": null,
   "metadata": {},
   "outputs": [],
   "source": [
    "# Original Matrix\n",
    "np.array(X_train.head(1))"
   ]
  },
  {
   "cell_type": "markdown",
   "metadata": {},
   "source": [
    "### Import Polynomial Features "
   ]
  },
  {
   "cell_type": "code",
   "execution_count": null,
   "metadata": {},
   "outputs": [],
   "source": [
    "from sklearn.preprocessing import PolynomialFeatures\n",
    "polyfeat = PolynomialFeatures(degree=2)\n",
    "X_trainpoly = polyfeat.fit_transform(X_train)\n",
    "X_testpoly = polyfeat.fit_transform(X_test)\n",
    "poly = LinearRegression().fit(X_trainpoly, y_train)\n",
    "\n",
    "predp = poly.predict(X_testpoly)"
   ]
  },
  {
   "cell_type": "markdown",
   "metadata": {},
   "source": [
    "### Examine Polynomial Features"
   ]
  },
  {
   "cell_type": "code",
   "execution_count": null,
   "metadata": {
    "scrolled": true
   },
   "outputs": [],
   "source": [
    "# Polynomial Transformation Matrix\n",
    "X_trainpoly[0]"
   ]
  },
  {
   "cell_type": "code",
   "execution_count": null,
   "metadata": {},
   "outputs": [],
   "source": [
    "r2 = format(r2_score(y_test, predp),'.3f')\n",
    "mse = format(np.sqrt(mean_squared_error(y_test, predp)),'.3f')\n",
    "mae = format(mean_absolute_error(y_test, predp),'.3f')\n",
    "\n",
    "print(\"R Squared Score: \", format(r2_score(y_test, predp),'.3f'))\n",
    "print(\"Root Mean Squared Error: \", format(np.sqrt(mean_squared_error(y_test, predp)),'.3f'))\n",
    "print(\"Mean Absolute Error: \", format(mean_absolute_error(y_test, predp),'.3f'))"
   ]
  },
  {
   "cell_type": "markdown",
   "metadata": {},
   "source": [
    "# Regression Performance Comparison"
   ]
  },
  {
   "cell_type": "code",
   "execution_count": null,
   "metadata": {
    "scrolled": true
   },
   "outputs": [],
   "source": [
    "result_2 = pd.DataFrame({'Model':['Polynomial'],'R Squared':[r2], 'RMSE':[mse], 'MAE':[mae]})\n",
    "result = result.append(result_2)\n",
    "result"
   ]
  },
  {
   "cell_type": "markdown",
   "metadata": {},
   "source": [
    "# Summary\n",
    "***"
   ]
  },
  {
   "cell_type": "markdown",
   "metadata": {},
   "source": [
    "Linear Regression is a powerful, simple, and widely used model. It's great for both predictions and interpretations. Here are some things to keep in mind:\n",
    "\n",
    "- If all you care about is **prediction**, then correlated features may not be a big deal. \n",
    "- If you care about **interpretability** your features must be independent.\n",
    "- Look at Adjusted R2 when evaluating the performance, it only uses important features for its calculations, whereas R2 will always increase with each addtional new feature.\n",
    "- Always check the **assumptions** when you are trying to **interpret** the coefficients, OR ELSE your interpretations will be unreliable. \n"
   ]
  },
  {
   "cell_type": "markdown",
   "metadata": {},
   "source": [
    "# Questions\n",
    "***\n",
    "\n",
    "1. What Linear Regression training algorithm can you use if you have a training set with millions of features?\n",
    "2. What is adjusted R2?\n",
    "3. What are the assumptions of linear regression (simple linear and multiple)?\n",
    "4. What is meant by dependent and independent variables? (y is dependent, x are independents)\n",
    "5. What is difference between simple linear and multiple linear regressions?\n",
    "6. What is difference between regression model, and estimated regression equation?\n",
    "7. What is a residual? How is it computed? (actual y – estimated y)\n",
    "8. How do you interpret b1 in simple linear regression?\n",
    "9. How do you interpret b1 in multiple linear regressions?\n",
    "10. What happens when p value for t test is lower than alpha i.e. what do you conclude?"
   ]
  },
  {
   "cell_type": "code",
   "execution_count": null,
   "metadata": {
    "collapsed": true
   },
   "outputs": [],
   "source": []
  }
 ],
 "metadata": {
  "kernelspec": {
   "display_name": "Python 3",
   "language": "python",
   "name": "python3"
  },
  "language_info": {
   "codemirror_mode": {
    "name": "ipython",
    "version": 3
   },
   "file_extension": ".py",
   "mimetype": "text/x-python",
   "name": "python",
   "nbconvert_exporter": "python",
   "pygments_lexer": "ipython3",
   "version": "3.6.1"
  }
 },
 "nbformat": 4,
 "nbformat_minor": 2
}
