{
 "cells": [
  {
   "cell_type": "markdown",
   "metadata": {},
   "source": [
    "# Table of Contents\n",
    "***\n",
    "\n",
    "## Introduction to Linear Regression\n",
    "- [What is Linear Regression? Why?](#Ensemble)\n",
    "    \n",
    "- [How it Works](#school_attendance)\n",
    "    \n",
    "- [Advantages and Disadvantages](#school_attendance)\n",
    "    \n",
    "- [Statistical Modeling vs Predictive Modeling](#hi)\n",
    "\n",
    "## Important Terminologies\n",
    "- [Independent Variables](#iv)\n",
    "\n",
    "- [Dependent Variable](#dv)\n",
    "\n",
    "- [Intercept](#int)\n",
    "\n",
    "- [Coefficients](#coef)\n",
    "\n",
    "- [Error Term](#error)\n",
    "\n",
    "- [Residual](#res)\n",
    "\n",
    "- [Ordinary Least Squares (OLS)](#ols)\n",
    "\n",
    "\n",
    "## Assumptions & How to Check\n",
    "- [Linear Relationship between IV and DV](#DV)\n",
    "\n",
    "- [Multicollinearity](#mc)\n",
    "\n",
    "- [Heteroskedasticity](#hetero)\n",
    "\n",
    "- [Normal Distribution of Residuals](#nr)\n",
    "\n",
    "\n",
    "## How to Interpret Linear Regression Output (Statsmodel)\n",
    "- [R Squared (SSR,SSE,SSTO)](#r2)\n",
    "\n",
    "- [Adjusted R Squared](#r22)\n",
    "\n",
    "- [Intercept and Coefficients](#coeff)\n",
    "\n",
    "- [Null-Hypothesis and P-value](#p)\n",
    "\n",
    "## Modeling\n",
    "- [Simple Linear Regresssion](#sl)\n",
    "\n",
    "- [Multiple Linear Regression](#ml)\n",
    "\n",
    "- [Polynomial Regression](#pol)\n",
    "\n",
    "- [Regularized Linear Regression (L1 & L2)](#l1)"
   ]
  },
  {
   "cell_type": "markdown",
   "metadata": {},
   "source": [
    "<img src='https://cdn-images-1.medium.com/max/1000/1*csk8XTXy0j__hm_kbkwxCw.jpeg'/>"
   ]
  },
  {
   "cell_type": "markdown",
   "metadata": {},
   "source": [
    "### Linear Regression \n",
    "\n",
    "Linear Regression is a method to model the **relationship** between a set of **independent variables $X$** (also knowns as explanatory variables, features, predictors) and a **dependent variable $Y$**.\n",
    "\n",
    "\n",
    "### Formula\n",
    "\n",
    "$$ Y = \\beta_0 + \\beta_1 X + \\epsilon$$\n",
    "\n",
    "**What does each term mean?**\n",
    "\n",
    "- Y is the response\n",
    "- X is the feature\n",
    "- $\\beta_0$ is the intercept\n",
    "- $\\beta_1$ is the coefficient for X\n",
    "- $\\epsilon$ is the error term\n",
    "\n",
    "$\\beta_0$ and $\\beta_1$ are called the **model coefficients**\n",
    "\n",
    "### Goal \n",
    "To build a model which predicts “y” given “x”\n"
   ]
  },
  {
   "cell_type": "code",
   "execution_count": null,
   "metadata": {
    "collapsed": true
   },
   "outputs": [],
   "source": []
  },
  {
   "cell_type": "code",
   "execution_count": null,
   "metadata": {
    "collapsed": true
   },
   "outputs": [],
   "source": []
  },
  {
   "cell_type": "code",
   "execution_count": null,
   "metadata": {
    "collapsed": true
   },
   "outputs": [],
   "source": []
  },
  {
   "cell_type": "code",
   "execution_count": 1,
   "metadata": {
    "collapsed": true
   },
   "outputs": [],
   "source": [
    "# Import Libraries \n",
    "%matplotlib inline\n",
    "import numpy as np # imports a fast numerical programming library\n",
    "import scipy as sp #imports stats functions, amongst other things\n",
    "import matplotlib as mpl # this actually imports matplotlib\n",
    "import matplotlib.cm as cm #allows us easy access to colormaps\n",
    "import matplotlib.pyplot as plt #sets up plotting under plt\n",
    "import pandas as pd #lets us handle data as dataframes\n",
    "import seaborn as sns #sets up styles and gives us more plotting options\n",
    "from sklearn.preprocessing import PolynomialFeatures\n",
    "from sklearn.model_selection import train_test_split\n",
    "from sklearn.metrics import r2_score, mean_squared_error, mean_absolute_error"
   ]
  },
  {
   "cell_type": "code",
   "execution_count": 62,
   "metadata": {},
   "outputs": [
    {
     "data": {
      "text/html": [
       "<div>\n",
       "<style>\n",
       "    .dataframe thead tr:only-child th {\n",
       "        text-align: right;\n",
       "    }\n",
       "\n",
       "    .dataframe thead th {\n",
       "        text-align: left;\n",
       "    }\n",
       "\n",
       "    .dataframe tbody tr th {\n",
       "        vertical-align: top;\n",
       "    }\n",
       "</style>\n",
       "<table border=\"1\" class=\"dataframe\">\n",
       "  <thead>\n",
       "    <tr style=\"text-align: right;\">\n",
       "      <th></th>\n",
       "      <th>TV</th>\n",
       "      <th>radio</th>\n",
       "      <th>newspaper</th>\n",
       "      <th>sales</th>\n",
       "    </tr>\n",
       "  </thead>\n",
       "  <tbody>\n",
       "    <tr>\n",
       "      <th>1</th>\n",
       "      <td>230.1</td>\n",
       "      <td>37.8</td>\n",
       "      <td>69.2</td>\n",
       "      <td>22.1</td>\n",
       "    </tr>\n",
       "    <tr>\n",
       "      <th>2</th>\n",
       "      <td>44.5</td>\n",
       "      <td>39.3</td>\n",
       "      <td>45.1</td>\n",
       "      <td>10.4</td>\n",
       "    </tr>\n",
       "    <tr>\n",
       "      <th>3</th>\n",
       "      <td>17.2</td>\n",
       "      <td>45.9</td>\n",
       "      <td>69.3</td>\n",
       "      <td>9.3</td>\n",
       "    </tr>\n",
       "    <tr>\n",
       "      <th>4</th>\n",
       "      <td>151.5</td>\n",
       "      <td>41.3</td>\n",
       "      <td>58.5</td>\n",
       "      <td>18.5</td>\n",
       "    </tr>\n",
       "    <tr>\n",
       "      <th>5</th>\n",
       "      <td>180.8</td>\n",
       "      <td>10.8</td>\n",
       "      <td>58.4</td>\n",
       "      <td>12.9</td>\n",
       "    </tr>\n",
       "  </tbody>\n",
       "</table>\n",
       "</div>"
      ],
      "text/plain": [
       "      TV  radio  newspaper  sales\n",
       "1  230.1   37.8       69.2   22.1\n",
       "2   44.5   39.3       45.1   10.4\n",
       "3   17.2   45.9       69.3    9.3\n",
       "4  151.5   41.3       58.5   18.5\n",
       "5  180.8   10.8       58.4   12.9"
      ]
     },
     "execution_count": 62,
     "metadata": {},
     "output_type": "execute_result"
    }
   ],
   "source": [
    "# read data into a DataFrame\n",
    "df = pd.read_csv('http://www-bcf.usc.edu/~gareth/ISL/Advertising.csv', index_col=0)\n",
    "df.head()"
   ]
  },
  {
   "cell_type": "code",
   "execution_count": 66,
   "metadata": {
    "scrolled": true
   },
   "outputs": [
    {
     "name": "stderr",
     "output_type": "stream",
     "text": [
      "'c' argument looks like a single numeric RGB or RGBA sequence, which should be avoided as value-mapping will have precedence in case its length matches with 'x' & 'y'.  Please use a 2-D array with a single row if you really want to specify the same RGB or RGBA value for all points.\n",
      "'c' argument looks like a single numeric RGB or RGBA sequence, which should be avoided as value-mapping will have precedence in case its length matches with 'x' & 'y'.  Please use a 2-D array with a single row if you really want to specify the same RGB or RGBA value for all points.\n",
      "'c' argument looks like a single numeric RGB or RGBA sequence, which should be avoided as value-mapping will have precedence in case its length matches with 'x' & 'y'.  Please use a 2-D array with a single row if you really want to specify the same RGB or RGBA value for all points.\n"
     ]
    },
    {
     "data": {
      "text/plain": [
       "<matplotlib.axes._subplots.AxesSubplot at 0x1cfe92f06a0>"
      ]
     },
     "execution_count": 66,
     "metadata": {},
     "output_type": "execute_result"
    },
    {
     "data": {
      "image/png": "[encoded data removed]",
      "text/plain": [
       "<Figure size 1080x504 with 3 Axes>"
      ]
     },
     "metadata": {},
     "output_type": "display_data"
    }
   ],
   "source": [
    "# visualize the relationship between the features and the response using scatterplots\n",
    "fig, axs = plt.subplots(1, 3, sharey=True)\n",
    "df.plot(kind='scatter', x='TV', y='sales', ax=axs[0], figsize=(15, 7))\n",
    "df.plot(kind='scatter', x='radio', y='sales', ax=axs[1])\n",
    "df.plot(kind='scatter', x='newspaper', y='sales', ax=axs[2])"
   ]
  },
  {
   "cell_type": "markdown",
   "metadata": {},
   "source": [
    "# Ordinary Least Squares\n",
    "\n",
    "Finding the model coefficients"
   ]
  },
  {
   "cell_type": "markdown",
   "metadata": {},
   "source": [
    "<img src='http://i63.tinypic.com/33l1o4w.png'/>"
   ]
  },
  {
   "cell_type": "code",
   "execution_count": null,
   "metadata": {
    "collapsed": true
   },
   "outputs": [],
   "source": []
  },
  {
   "cell_type": "code",
   "execution_count": null,
   "metadata": {
    "collapsed": true
   },
   "outputs": [],
   "source": []
  },
  {
   "cell_type": "code",
   "execution_count": null,
   "metadata": {
    "collapsed": true
   },
   "outputs": [],
   "source": []
  },
  {
   "cell_type": "markdown",
   "metadata": {},
   "source": [
    "# Simple Linear Regression"
   ]
  },
  {
   "cell_type": "code",
   "execution_count": 4,
   "metadata": {
    "collapsed": true
   },
   "outputs": [],
   "source": [
    "# Import Linear Regression Model\n",
    "from sklearn.linear_model import LinearRegression"
   ]
  },
  {
   "cell_type": "code",
   "execution_count": 5,
   "metadata": {
    "collapsed": true
   },
   "outputs": [],
   "source": [
    "# Use a single variable \n",
    "simple = df[['sqft_living']]"
   ]
  },
  {
   "cell_type": "markdown",
   "metadata": {},
   "source": [
    "### Train/Test Split"
   ]
  },
  {
   "cell_type": "code",
   "execution_count": 6,
   "metadata": {
    "collapsed": true
   },
   "outputs": [],
   "source": [
    "# Split data into train/test sets\n",
    "X_train, X_test, y_train, y_test = train_test_split(simple, y, test_size=0.20, random_state=42)"
   ]
  },
  {
   "cell_type": "code",
   "execution_count": 7,
   "metadata": {
    "collapsed": true
   },
   "outputs": [],
   "source": [
    "# Initialize LR Model\n",
    "lr = LinearRegression()\n",
    "\n",
    "# Fit the model\n",
    "lr.fit(X_train, y_train)\n",
    "\n",
    "# Make predictions\n",
    "predictions = lr.predict(X_test)"
   ]
  },
  {
   "cell_type": "code",
   "execution_count": 8,
   "metadata": {},
   "outputs": [
    {
     "name": "stdout",
     "output_type": "stream",
     "text": [
      "                      0\n",
      "sqft_living  279.554779\n"
     ]
    }
   ],
   "source": [
    "coefficients = pd.DataFrame(lr.coef_, simple.columns).sort_values(by=0, ascending=False)\n",
    "print(coefficients)"
   ]
  },
  {
   "cell_type": "code",
   "execution_count": 9,
   "metadata": {},
   "outputs": [
    {
     "name": "stdout",
     "output_type": "stream",
     "text": [
      "R Squared Score:  0.494\n",
      "Root Mean Squared Error:  276559.175\n",
      "Mean Absolute Error:  177867.540\n"
     ]
    }
   ],
   "source": [
    "# Store results in variable\n",
    "r2 = format(r2_score(y_test, predictions),'.3f')\n",
    "mse = format(np.sqrt(mean_squared_error(y_test, predictions)),'.3f')\n",
    "mae = format(mean_absolute_error(y_test, predictions),'.3f')\n",
    "\n",
    "# Print out result\n",
    "print(\"R Squared Score: \", format(r2_score(y_test, predictions),'.3f'))\n",
    "print(\"Root Mean Squared Error: \", format(np.sqrt(mean_squared_error(y_test, predictions)),'.3f'))\n",
    "print(\"Mean Absolute Error: \", format(mean_absolute_error(y_test, predictions),'.3f'))"
   ]
  },
  {
   "cell_type": "code",
   "execution_count": 10,
   "metadata": {},
   "outputs": [
    {
     "data": {
      "image/png": "[encoded data removed]",
      "text/plain": [
       "<Figure size 468x360 with 1 Axes>"
      ]
     },
     "metadata": {},
     "output_type": "display_data"
    }
   ],
   "source": [
    "plt.figure(figsize=(6.5,5))\n",
    "plt.scatter(X_test,y_test,color='darkgreen',label=\"Data\", alpha=.1)\n",
    "plt.plot(X_test,lr.predict(X_test),color=\"red\",label=\"Predicted Regression Line\")\n",
    "plt.xlabel(\"Living Space (sqft)\", fontsize=15)\n",
    "plt.ylabel(\"Price ($)\", fontsize=15)\n",
    "plt.xticks(fontsize=13)\n",
    "plt.yticks(fontsize=13)\n",
    "plt.legend()\n",
    "\n",
    "plt.gca().spines['right'].set_visible(False)\n",
    "plt.gca().spines['top'].set_visible(False)"
   ]
  },
  {
   "cell_type": "markdown",
   "metadata": {},
   "source": [
    "# Result"
   ]
  },
  {
   "cell_type": "code",
   "execution_count": 11,
   "metadata": {
    "scrolled": false
   },
   "outputs": [
    {
     "data": {
      "text/html": [
       "<div>\n",
       "<style>\n",
       "    .dataframe thead tr:only-child th {\n",
       "        text-align: right;\n",
       "    }\n",
       "\n",
       "    .dataframe thead th {\n",
       "        text-align: left;\n",
       "    }\n",
       "\n",
       "    .dataframe tbody tr th {\n",
       "        vertical-align: top;\n",
       "    }\n",
       "</style>\n",
       "<table border=\"1\" class=\"dataframe\">\n",
       "  <thead>\n",
       "    <tr style=\"text-align: right;\">\n",
       "      <th></th>\n",
       "      <th>MAE</th>\n",
       "      <th>MSE</th>\n",
       "      <th>Model</th>\n",
       "      <th>R Squared</th>\n",
       "    </tr>\n",
       "  </thead>\n",
       "  <tbody>\n",
       "    <tr>\n",
       "      <th>0</th>\n",
       "      <td>177867.540</td>\n",
       "      <td>276559.175</td>\n",
       "      <td>Simple</td>\n",
       "      <td>0.494</td>\n",
       "    </tr>\n",
       "  </tbody>\n",
       "</table>\n",
       "</div>"
      ],
      "text/plain": [
       "          MAE         MSE   Model R Squared\n",
       "0  177867.540  276559.175  Simple     0.494"
      ]
     },
     "execution_count": 11,
     "metadata": {},
     "output_type": "execute_result"
    }
   ],
   "source": [
    "result = pd.DataFrame.from_dict({'Model':['Simple'],'R Squared':[r2], 'MSE':[mse], 'MAE':[mae]})\n",
    "result"
   ]
  },
  {
   "cell_type": "markdown",
   "metadata": {},
   "source": [
    "# Multiple Linear Regression"
   ]
  },
  {
   "cell_type": "code",
   "execution_count": 12,
   "metadata": {
    "collapsed": true
   },
   "outputs": [],
   "source": [
    "# Split data into train/test sets\n",
    "X_train, X_test, y_train, y_test = train_test_split(df, y, test_size=0.20, random_state=42)"
   ]
  },
  {
   "cell_type": "code",
   "execution_count": 13,
   "metadata": {
    "collapsed": true
   },
   "outputs": [],
   "source": [
    "# Initialize LR Model\n",
    "lr = LinearRegression()\n",
    "\n",
    "# Fit the model\n",
    "lr.fit(X_train, y_train)\n",
    "\n",
    "# Make predictions\n",
    "predictions = lr.predict(X_test)"
   ]
  },
  {
   "cell_type": "code",
   "execution_count": 14,
   "metadata": {},
   "outputs": [
    {
     "name": "stdout",
     "output_type": "stream",
     "text": [
      "                           0\n",
      "waterfront     568137.383420\n",
      "lat            556748.027154\n",
      "grade           95702.362583\n",
      "view            50499.184619\n",
      "bathrooms       45532.714991\n",
      "condition       28786.278381\n",
      "floors           1478.801644\n",
      "sqft_living       107.507563\n",
      "sqft_above         70.056145\n",
      "sqft_basement      37.451418\n",
      "sqft_living15      26.680621\n",
      "yr_renovated       22.066766\n",
      "sqft_lot            0.084676\n",
      "sqft_lot15         -0.330561\n",
      "yr_built        -2531.973870\n",
      "bedrooms       -32808.988291\n",
      "long          -101603.032397\n"
     ]
    }
   ],
   "source": [
    "coefficients = pd.DataFrame(lr.coef_, df.columns).sort_values(by=0, ascending=False)\n",
    "print(coefficients)"
   ]
  },
  {
   "cell_type": "code",
   "execution_count": 15,
   "metadata": {},
   "outputs": [
    {
     "name": "stdout",
     "output_type": "stream",
     "text": [
      "R Squared Score:  0.696\n",
      "Root Mean Squared Error:  214472.756\n",
      "Mean Absolute Error:  128157.320\n"
     ]
    }
   ],
   "source": [
    "r2 = format(r2_score(y_test, predictions),'.3f')\n",
    "mse = format(np.sqrt(mean_squared_error(y_test, predictions)),'.3f')\n",
    "mae = format(mean_absolute_error(y_test, predictions),'.3f')\n",
    "\n",
    "print(\"R Squared Score: \", format(r2_score(y_test, predictions),'.3f'))\n",
    "print(\"Root Mean Squared Error: \", format(np.sqrt(mean_squared_error(y_test, predictions)),'.3f'))\n",
    "print(\"Mean Absolute Error: \", format(mean_absolute_error(y_test, predictions),'.3f'))"
   ]
  },
  {
   "cell_type": "code",
   "execution_count": 16,
   "metadata": {},
   "outputs": [
    {
     "data": {
      "text/html": [
       "<div>\n",
       "<style>\n",
       "    .dataframe thead tr:only-child th {\n",
       "        text-align: right;\n",
       "    }\n",
       "\n",
       "    .dataframe thead th {\n",
       "        text-align: left;\n",
       "    }\n",
       "\n",
       "    .dataframe tbody tr th {\n",
       "        vertical-align: top;\n",
       "    }\n",
       "</style>\n",
       "<table border=\"1\" class=\"dataframe\">\n",
       "  <thead>\n",
       "    <tr style=\"text-align: right;\">\n",
       "      <th></th>\n",
       "      <th>MAE</th>\n",
       "      <th>MSE</th>\n",
       "      <th>Model</th>\n",
       "      <th>R Squared</th>\n",
       "    </tr>\n",
       "  </thead>\n",
       "  <tbody>\n",
       "    <tr>\n",
       "      <th>0</th>\n",
       "      <td>177867.540</td>\n",
       "      <td>276559.175</td>\n",
       "      <td>Simple</td>\n",
       "      <td>0.494</td>\n",
       "    </tr>\n",
       "    <tr>\n",
       "      <th>0</th>\n",
       "      <td>128157.320</td>\n",
       "      <td>214472.756</td>\n",
       "      <td>Multiple</td>\n",
       "      <td>0.696</td>\n",
       "    </tr>\n",
       "  </tbody>\n",
       "</table>\n",
       "</div>"
      ],
      "text/plain": [
       "          MAE         MSE     Model R Squared\n",
       "0  177867.540  276559.175    Simple     0.494\n",
       "0  128157.320  214472.756  Multiple     0.696"
      ]
     },
     "execution_count": 16,
     "metadata": {},
     "output_type": "execute_result"
    }
   ],
   "source": [
    "result_2 = pd.DataFrame({'Model':['Multiple'],'R Squared':[r2], 'MSE':[mse], 'MAE':[mae]})\n",
    "result = result.append(result_2)\n",
    "result"
   ]
  },
  {
   "cell_type": "markdown",
   "metadata": {},
   "source": [
    "# Ridge Regression"
   ]
  },
  {
   "cell_type": "code",
   "execution_count": 17,
   "metadata": {
    "collapsed": true
   },
   "outputs": [],
   "source": [
    "from sklearn.linear_model import Ridge\n",
    "model_ridge = Ridge(fit_intercept=True)\n",
    "model_ridge.fit(X_train, y_train)\n",
    "predictions = model_ridge.predict(X_test)"
   ]
  },
  {
   "cell_type": "code",
   "execution_count": 18,
   "metadata": {
    "scrolled": true
   },
   "outputs": [
    {
     "name": "stdout",
     "output_type": "stream",
     "text": [
      "                           0\n",
      "waterfront     562674.439585\n",
      "lat            554826.737057\n",
      "grade           95748.598882\n",
      "view            50711.007658\n",
      "bathrooms       45540.098253\n",
      "condition       28748.671127\n",
      "floors           1575.594342\n",
      "sqft_living       107.536692\n",
      "sqft_above         70.023647\n",
      "sqft_basement      37.510548\n",
      "sqft_living15      26.646653\n",
      "yr_renovated       22.088362\n",
      "sqft_lot            0.084134\n",
      "sqft_lot15         -0.330830\n",
      "yr_built        -2535.414222\n",
      "bedrooms       -32851.352110\n",
      "long          -101271.051775\n"
     ]
    }
   ],
   "source": [
    "coefficients = pd.DataFrame(model_ridge.coef_, df.columns).sort_values(by=0, ascending=False)\n",
    "print(coefficients)"
   ]
  },
  {
   "cell_type": "code",
   "execution_count": 19,
   "metadata": {},
   "outputs": [
    {
     "name": "stdout",
     "output_type": "stream",
     "text": [
      "R Squared Score:  0.696\n",
      "Root Mean Squared Error:  214494.816\n",
      "Mean Absolute Error:  128155.039\n"
     ]
    }
   ],
   "source": [
    "r2 = format(r2_score(y_test, predictions),'.3f')\n",
    "mse = format(np.sqrt(mean_squared_error(y_test, predictions)),'.3f')\n",
    "mae = format(mean_absolute_error(y_test, predictions),'.3f')\n",
    "\n",
    "print(\"R Squared Score: \", format(r2_score(y_test, predictions),'.3f'))\n",
    "print(\"Root Mean Squared Error: \", format(np.sqrt(mean_squared_error(y_test, predictions)),'.3f'))\n",
    "print(\"Mean Absolute Error: \", format(mean_absolute_error(y_test, predictions),'.3f'))"
   ]
  },
  {
   "cell_type": "code",
   "execution_count": 20,
   "metadata": {
    "scrolled": true
   },
   "outputs": [
    {
     "data": {
      "text/html": [
       "<div>\n",
       "<style>\n",
       "    .dataframe thead tr:only-child th {\n",
       "        text-align: right;\n",
       "    }\n",
       "\n",
       "    .dataframe thead th {\n",
       "        text-align: left;\n",
       "    }\n",
       "\n",
       "    .dataframe tbody tr th {\n",
       "        vertical-align: top;\n",
       "    }\n",
       "</style>\n",
       "<table border=\"1\" class=\"dataframe\">\n",
       "  <thead>\n",
       "    <tr style=\"text-align: right;\">\n",
       "      <th></th>\n",
       "      <th>MAE</th>\n",
       "      <th>MSE</th>\n",
       "      <th>Model</th>\n",
       "      <th>R Squared</th>\n",
       "    </tr>\n",
       "  </thead>\n",
       "  <tbody>\n",
       "    <tr>\n",
       "      <th>0</th>\n",
       "      <td>177867.540</td>\n",
       "      <td>276559.175</td>\n",
       "      <td>Simple</td>\n",
       "      <td>0.494</td>\n",
       "    </tr>\n",
       "    <tr>\n",
       "      <th>0</th>\n",
       "      <td>128157.320</td>\n",
       "      <td>214472.756</td>\n",
       "      <td>Multiple</td>\n",
       "      <td>0.696</td>\n",
       "    </tr>\n",
       "    <tr>\n",
       "      <th>0</th>\n",
       "      <td>128155.039</td>\n",
       "      <td>214494.816</td>\n",
       "      <td>Ridge</td>\n",
       "      <td>0.696</td>\n",
       "    </tr>\n",
       "  </tbody>\n",
       "</table>\n",
       "</div>"
      ],
      "text/plain": [
       "          MAE         MSE     Model R Squared\n",
       "0  177867.540  276559.175    Simple     0.494\n",
       "0  128157.320  214472.756  Multiple     0.696\n",
       "0  128155.039  214494.816     Ridge     0.696"
      ]
     },
     "execution_count": 20,
     "metadata": {},
     "output_type": "execute_result"
    }
   ],
   "source": [
    "result_2 = pd.DataFrame({'Model':['Ridge'],'R Squared':[r2], 'MSE':[mse], 'MAE':[mae]})\n",
    "result = result.append(result_2)\n",
    "result"
   ]
  },
  {
   "cell_type": "markdown",
   "metadata": {},
   "source": [
    "# LASSO"
   ]
  },
  {
   "cell_type": "code",
   "execution_count": 44,
   "metadata": {},
   "outputs": [
    {
     "name": "stderr",
     "output_type": "stream",
     "text": [
      "C:\\Users\\Randy\\Anaconda3\\lib\\site-packages\\sklearn\\linear_model\\coordinate_descent.py:484: ConvergenceWarning: Objective did not converge. You might want to increase the number of iterations. Fitting data with very small alpha may cause precision problems.\n",
      "  ConvergenceWarning)\n"
     ]
    }
   ],
   "source": [
    "from sklearn.linear_model import Lasso\n",
    "lasso = Lasso(fit_intercept=True)\n",
    "lasso = lasso.fit(X_train, y_train)\n",
    "predictions = lasso.predict(X_test)"
   ]
  },
  {
   "cell_type": "code",
   "execution_count": 45,
   "metadata": {},
   "outputs": [
    {
     "name": "stdout",
     "output_type": "stream",
     "text": [
      "                           0\n",
      "waterfront     567977.946101\n",
      "lat            556692.670680\n",
      "grade           95704.740685\n",
      "view            50505.133777\n",
      "bathrooms       45529.509541\n",
      "condition       28781.623439\n",
      "floors           1479.441971\n",
      "sqft_living       277.663699\n",
      "sqft_living15      26.676006\n",
      "yr_renovated       22.067118\n",
      "sqft_lot            0.084636\n",
      "sqft_lot15         -0.330602\n",
      "sqft_above       -100.099218\n",
      "sqft_basement    -132.698412\n",
      "yr_built        -2532.149027\n",
      "bedrooms       -32808.394353\n",
      "long          -101535.683965\n"
     ]
    }
   ],
   "source": [
    "coefficients = pd.DataFrame(lasso.coef_, df.columns).sort_values(by=0, ascending=False)\n",
    "print(coefficients)"
   ]
  },
  {
   "cell_type": "code",
   "execution_count": 48,
   "metadata": {
    "collapsed": true
   },
   "outputs": [],
   "source": [
    "def adjustedR2(r2,n,k):\n",
    "    return r2-(k-1)/(n-k)*(1-r2)"
   ]
  },
  {
   "cell_type": "code",
   "execution_count": 49,
   "metadata": {
    "scrolled": true
   },
   "outputs": [
    {
     "name": "stdout",
     "output_type": "stream",
     "text": [
      "R Squared Score:  0.696\n",
      "Root Mean Squared Error:  214473.711\n",
      "Mean Absolute Error:  128157.165\n"
     ]
    }
   ],
   "source": [
    "r2 = format(r2_score(y_test, predictions),'.3f')\n",
    "mse = format(np.sqrt(mean_squared_error(y_test, predictions)),'.3f')\n",
    "mae = format(mean_absolute_error(y_test, predictions),'.3f')\n",
    "\n",
    "print(\"R Squared Score: \", format(r2_score(y_test, predictions),'.3f'))\n",
    "print(\"Root Mean Squared Error: \", format(np.sqrt(mean_squared_error(y_test, predictions)),'.3f'))\n",
    "print(\"Mean Absolute Error: \", format(mean_absolute_error(y_test, predictions),'.3f'))"
   ]
  },
  {
   "cell_type": "code",
   "execution_count": 52,
   "metadata": {},
   "outputs": [
    {
     "data": {
      "text/plain": [
       "0.69550169608848811"
      ]
     },
     "execution_count": 52,
     "metadata": {},
     "output_type": "execute_result"
    }
   ],
   "source": [
    "adjustedR2(r2_score(y_test, predictions),len(y), len(X_train.columns))"
   ]
  },
  {
   "cell_type": "code",
   "execution_count": 35,
   "metadata": {
    "scrolled": true
   },
   "outputs": [
    {
     "data": {
      "text/html": [
       "<div>\n",
       "<style>\n",
       "    .dataframe thead tr:only-child th {\n",
       "        text-align: right;\n",
       "    }\n",
       "\n",
       "    .dataframe thead th {\n",
       "        text-align: left;\n",
       "    }\n",
       "\n",
       "    .dataframe tbody tr th {\n",
       "        vertical-align: top;\n",
       "    }\n",
       "</style>\n",
       "<table border=\"1\" class=\"dataframe\">\n",
       "  <thead>\n",
       "    <tr style=\"text-align: right;\">\n",
       "      <th></th>\n",
       "      <th>MAE</th>\n",
       "      <th>MSE</th>\n",
       "      <th>Model</th>\n",
       "      <th>R Squared</th>\n",
       "    </tr>\n",
       "  </thead>\n",
       "  <tbody>\n",
       "    <tr>\n",
       "      <th>0</th>\n",
       "      <td>177867.540</td>\n",
       "      <td>276559.175</td>\n",
       "      <td>Simple</td>\n",
       "      <td>0.494</td>\n",
       "    </tr>\n",
       "    <tr>\n",
       "      <th>0</th>\n",
       "      <td>128157.320</td>\n",
       "      <td>214472.756</td>\n",
       "      <td>Multiple</td>\n",
       "      <td>0.696</td>\n",
       "    </tr>\n",
       "    <tr>\n",
       "      <th>0</th>\n",
       "      <td>128155.039</td>\n",
       "      <td>214494.816</td>\n",
       "      <td>Ridge</td>\n",
       "      <td>0.696</td>\n",
       "    </tr>\n",
       "    <tr>\n",
       "      <th>0</th>\n",
       "      <td>128157.165</td>\n",
       "      <td>214473.711</td>\n",
       "      <td>LASSO</td>\n",
       "      <td>0.696</td>\n",
       "    </tr>\n",
       "    <tr>\n",
       "      <th>0</th>\n",
       "      <td>107917.008</td>\n",
       "      <td>182896.629</td>\n",
       "      <td>Polynomial</td>\n",
       "      <td>0.779</td>\n",
       "    </tr>\n",
       "    <tr>\n",
       "      <th>0</th>\n",
       "      <td>128157.243</td>\n",
       "      <td>214473.233</td>\n",
       "      <td>LASSO</td>\n",
       "      <td>0.696</td>\n",
       "    </tr>\n",
       "    <tr>\n",
       "      <th>0</th>\n",
       "      <td>128157.165</td>\n",
       "      <td>214473.711</td>\n",
       "      <td>LASSO</td>\n",
       "      <td>0.696</td>\n",
       "    </tr>\n",
       "  </tbody>\n",
       "</table>\n",
       "</div>"
      ],
      "text/plain": [
       "          MAE         MSE       Model R Squared\n",
       "0  177867.540  276559.175      Simple     0.494\n",
       "0  128157.320  214472.756    Multiple     0.696\n",
       "0  128155.039  214494.816       Ridge     0.696\n",
       "0  128157.165  214473.711       LASSO     0.696\n",
       "0  107917.008  182896.629  Polynomial     0.779\n",
       "0  128157.243  214473.233       LASSO     0.696\n",
       "0  128157.165  214473.711       LASSO     0.696"
      ]
     },
     "execution_count": 35,
     "metadata": {},
     "output_type": "execute_result"
    }
   ],
   "source": [
    "result_2 = pd.DataFrame({'Model':['LASSO'],'R Squared':[r2], 'MSE':[mse], 'MAE':[mae]})\n",
    "result = result.append(result_2)\n",
    "result"
   ]
  },
  {
   "cell_type": "markdown",
   "metadata": {},
   "source": [
    "# Polynomial Regression"
   ]
  },
  {
   "cell_type": "code",
   "execution_count": 56,
   "metadata": {},
   "outputs": [],
   "source": [
    "polyfeat = PolynomialFeatures(degree=2)\n",
    "X_trainpoly = polyfeat.fit_transform(X_train)\n",
    "X_testpoly = polyfeat.fit_transform(X_test)\n",
    "poly = LinearRegression().fit(X_trainpoly, y_train)\n",
    "\n",
    "predp = poly.predict(X_testpoly)"
   ]
  },
  {
   "cell_type": "code",
   "execution_count": 57,
   "metadata": {},
   "outputs": [
    {
     "name": "stdout",
     "output_type": "stream",
     "text": [
      "R Squared Score:  0.779\n",
      "Root Mean Squared Error:  182896.629\n",
      "Mean Absolute Error:  107917.008\n"
     ]
    }
   ],
   "source": [
    "r2 = format(r2_score(y_test, predp),'.3f')\n",
    "mse = format(np.sqrt(mean_squared_error(y_test, predp)),'.3f')\n",
    "mae = format(mean_absolute_error(y_test, predp),'.3f')\n",
    "\n",
    "print(\"R Squared Score: \", format(r2_score(y_test, predp),'.3f'))\n",
    "print(\"Root Mean Squared Error: \", format(np.sqrt(mean_squared_error(y_test, predp)),'.3f'))\n",
    "print(\"Mean Absolute Error: \", format(mean_absolute_error(y_test, predp),'.3f'))"
   ]
  },
  {
   "cell_type": "code",
   "execution_count": 59,
   "metadata": {},
   "outputs": [
    {
     "data": {
      "text/plain": [
       "0.77856404065398388"
      ]
     },
     "execution_count": 59,
     "metadata": {},
     "output_type": "execute_result"
    }
   ],
   "source": [
    "adjustedR2(r2_score(y_test, predp),len(y), len(X_train.columns))"
   ]
  },
  {
   "cell_type": "code",
   "execution_count": 27,
   "metadata": {},
   "outputs": [
    {
     "data": {
      "text/html": [
       "<div>\n",
       "<style>\n",
       "    .dataframe thead tr:only-child th {\n",
       "        text-align: right;\n",
       "    }\n",
       "\n",
       "    .dataframe thead th {\n",
       "        text-align: left;\n",
       "    }\n",
       "\n",
       "    .dataframe tbody tr th {\n",
       "        vertical-align: top;\n",
       "    }\n",
       "</style>\n",
       "<table border=\"1\" class=\"dataframe\">\n",
       "  <thead>\n",
       "    <tr style=\"text-align: right;\">\n",
       "      <th></th>\n",
       "      <th>MAE</th>\n",
       "      <th>MSE</th>\n",
       "      <th>Model</th>\n",
       "      <th>R Squared</th>\n",
       "    </tr>\n",
       "  </thead>\n",
       "  <tbody>\n",
       "    <tr>\n",
       "      <th>0</th>\n",
       "      <td>177867.540</td>\n",
       "      <td>276559.175</td>\n",
       "      <td>Simple</td>\n",
       "      <td>0.494</td>\n",
       "    </tr>\n",
       "    <tr>\n",
       "      <th>0</th>\n",
       "      <td>128157.320</td>\n",
       "      <td>214472.756</td>\n",
       "      <td>Multiple</td>\n",
       "      <td>0.696</td>\n",
       "    </tr>\n",
       "    <tr>\n",
       "      <th>0</th>\n",
       "      <td>128155.039</td>\n",
       "      <td>214494.816</td>\n",
       "      <td>Ridge</td>\n",
       "      <td>0.696</td>\n",
       "    </tr>\n",
       "    <tr>\n",
       "      <th>0</th>\n",
       "      <td>128157.165</td>\n",
       "      <td>214473.711</td>\n",
       "      <td>LASSO</td>\n",
       "      <td>0.696</td>\n",
       "    </tr>\n",
       "    <tr>\n",
       "      <th>0</th>\n",
       "      <td>107917.008</td>\n",
       "      <td>182896.629</td>\n",
       "      <td>Polynomial</td>\n",
       "      <td>0.779</td>\n",
       "    </tr>\n",
       "  </tbody>\n",
       "</table>\n",
       "</div>"
      ],
      "text/plain": [
       "          MAE         MSE       Model R Squared\n",
       "0  177867.540  276559.175      Simple     0.494\n",
       "0  128157.320  214472.756    Multiple     0.696\n",
       "0  128155.039  214494.816       Ridge     0.696\n",
       "0  128157.165  214473.711       LASSO     0.696\n",
       "0  107917.008  182896.629  Polynomial     0.779"
      ]
     },
     "execution_count": 27,
     "metadata": {},
     "output_type": "execute_result"
    }
   ],
   "source": [
    "result_2 = pd.DataFrame({'Model':['Polynomial'],'R Squared':[r2], 'MSE':[mse], 'MAE':[mae]})\n",
    "result = result.append(result_2)\n",
    "result"
   ]
  },
  {
   "cell_type": "code",
   "execution_count": null,
   "metadata": {
    "collapsed": true
   },
   "outputs": [],
   "source": []
  }
 ],
 "metadata": {
  "kernelspec": {
   "display_name": "Python 3",
   "language": "python",
   "name": "python3"
  },
  "language_info": {
   "codemirror_mode": {
    "name": "ipython",
    "version": 3
   },
   "file_extension": ".py",
   "mimetype": "text/x-python",
   "name": "python",
   "nbconvert_exporter": "python",
   "pygments_lexer": "ipython3",
   "version": "3.6.1"
  }
 },
 "nbformat": 4,
 "nbformat_minor": 2
}
